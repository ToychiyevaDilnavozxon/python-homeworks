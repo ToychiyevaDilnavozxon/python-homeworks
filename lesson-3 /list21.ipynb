{
 "cells": [
  {
   "cell_type": "markdown",
   "metadata": {},
   "source": [
    "list19\n",
    "Replace Element**: Given a list, replace the first occurrence of a specified element with another element.^^"
   ]
  },
  {
   "cell_type": "code",
   "execution_count": 16,
   "metadata": {},
   "outputs": [
    {
     "name": "stdout",
     "output_type": "stream",
     "text": [
      "[1, 9, 3, 4, 5, 6]\n",
      "1\n"
     ]
    }
   ],
   "source": [
    "a = [1, 2, 3, 4, 5, 6]\n",
    "c=a.index(2)\n",
    "a.remove(2)\n",
    "a.insert(c,9)\n",
    "print(a)\n",
    "print(c)\n"
   ]
  },
  {
   "cell_type": "markdown",
   "metadata": {},
   "source": [
    "list20\n",
    " **Find Second Largest**: From a given list, find the second largest element.\n",
    " "
   ]
  },
  {
   "cell_type": "code",
   "execution_count": 21,
   "metadata": {},
   "outputs": [
    {
     "name": "stdout",
     "output_type": "stream",
     "text": [
      "7\n"
     ]
    }
   ],
   "source": [
    "\n",
    "a=[1,5,5,6,7,5,9,0]\n",
    "b=max(a)\n",
    "a.remove(b)\n",
    "c=max(a)\n",
    "\n",
    "print(c)"
   ]
  },
  {
   "cell_type": "markdown",
   "metadata": {},
   "source": [
    "list21\n",
    "**Find Second Smallest**: From a given list, find the second smallest element."
   ]
  },
  {
   "cell_type": "code",
   "execution_count": 22,
   "metadata": {},
   "outputs": [
    {
     "name": "stdout",
     "output_type": "stream",
     "text": [
      "1\n"
     ]
    }
   ],
   "source": [
    "a=[1,5,5,6,7,5,9,0]\n",
    "b=min(a)\n",
    "a.remove(b)\n",
    "c=min(a)\n",
    "\n",
    "print(c)"
   ]
  },
  {
   "cell_type": "markdown",
   "metadata": {},
   "source": [
    "list22\n",
    "**Filter Even Numbers**: Given a list of integers, create a new list that contains only the even numbers.\n"
   ]
  },
  {
   "cell_type": "code",
   "execution_count": 26,
   "metadata": {},
   "outputs": [
    {
     "name": "stdout",
     "output_type": "stream",
     "text": [
      "juft: [2, 4, 6]\n"
     ]
    }
   ],
   "source": [
    "a=[1,2,3,4,1,2,3,1,6,9]\n",
    "b = [num for num in a if num % 2 == 0]\n",
    "c=list(set(b))\n",
    "print(\"juft:\",c)"
   ]
  },
  {
   "cell_type": "markdown",
   "metadata": {},
   "source": []
  },
  {
   "cell_type": "markdown",
   "metadata": {},
   "source": [
    "list23\n",
    " **Filter Odd Numbers**: Given a list of integers, create a new list that contains only the odd numbers.\n",
    " \n"
   ]
  },
  {
   "cell_type": "code",
   "execution_count": 27,
   "metadata": {},
   "outputs": [
    {
     "name": "stdout",
     "output_type": "stream",
     "text": [
      "Toq: [1, 3, 9]\n"
     ]
    }
   ],
   "source": [
    "a=[1,2,3,4,1,2,3,1,6,9]\n",
    "b = [num for num in a if num % 2 == 1]\n",
    "c=list(set(b))\n",
    "print(\"Toq:\",c)"
   ]
  },
  {
   "cell_type": "markdown",
   "metadata": {},
   "source": [
    "list24\n",
    "**List Length**: Determine the number of elements in the list."
   ]
  },
  {
   "cell_type": "code",
   "execution_count": 30,
   "metadata": {},
   "outputs": [
    {
     "name": "stdout",
     "output_type": "stream",
     "text": [
      "9\n"
     ]
    }
   ],
   "source": [
    "a=[1,2,3,5,1,2,3,2,3]\n",
    "b=len(a)\n",
    "print(b)"
   ]
  },
  {
   "cell_type": "markdown",
   "metadata": {},
   "source": [
    "list25\n",
    "**Create a Copy**: Create a new list that is a copy of the original list.\n"
   ]
  },
  {
   "cell_type": "code",
   "execution_count": 33,
   "metadata": {},
   "outputs": [
    {
     "name": "stdout",
     "output_type": "stream",
     "text": [
      "[2, 9, 8, 9, 7, 6, 8, 3]\n"
     ]
    }
   ],
   "source": [
    "a=[2,9,8,9,7,6,8,3]\n",
    "a.copy()\n",
    "print(a)"
   ]
  },
  {
   "cell_type": "markdown",
   "metadata": {},
   "source": [
    "list26\n",
    "*Get Middle Element**: Given a list, find the middle element. If the list has an even number of elements, return the two middle elements."
   ]
  },
  {
   "cell_type": "code",
   "execution_count": null,
   "metadata": {},
   "outputs": [],
   "source": []
  }
 ],
 "metadata": {
  "kernelspec": {
   "display_name": "Python 3",
   "language": "python",
   "name": "python3"
  },
  "language_info": {
   "codemirror_mode": {
    "name": "ipython",
    "version": 3
   },
   "file_extension": ".py",
   "mimetype": "text/x-python",
   "name": "python",
   "nbconvert_exporter": "python",
   "pygments_lexer": "ipython3",
   "version": "3.12.8"
  }
 },
 "nbformat": 4,
 "nbformat_minor": 2
}
