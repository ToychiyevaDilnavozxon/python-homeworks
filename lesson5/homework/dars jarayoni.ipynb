{
 "cells": [
  {
   "cell_type": "markdown",
   "metadata": {},
   "source": [
    "list comprehension"
   ]
  },
  {
   "cell_type": "code",
   "execution_count": 6,
   "metadata": {},
   "outputs": [
    {
     "name": "stdout",
     "output_type": "stream",
     "text": [
      "[1, 4, 9, 16, 25, 36]\n",
      "[1, 4, 9, 16, 25, 36]\n",
      "[2, 4, 6]\n"
     ]
    }
   ],
   "source": [
    "numbers=[1,2,3,4,5,6]\n",
    "a_square=[]\n",
    "\n",
    "for number in numbers:\n",
    "    a_square.append(number**2)\n",
    "\n",
    "b_square=[val ** 2 for val in numbers]\n",
    "a_even=[even for even in numbers if even % 2 == 0]\n",
    "\n",
    "print(b_square)\n",
    "print(a_square)\n",
    "print(a_even)"
   ]
  },
  {
   "cell_type": "code",
   "execution_count": 9,
   "metadata": {},
   "outputs": [
    {
     "name": "stdout",
     "output_type": "stream",
     "text": [
      "[(2, 1), (2, 4), (2, 7), (2, 10), (2, 13), (2, 16), (2, 19), (4, 1), (4, 4), (4, 7), (4, 10), (4, 13), (4, 16), (4, 19), (6, 1), (6, 4), (6, 7), (6, 10), (6, 13), (6, 16), (6, 19), (8, 1), (8, 4), (8, 7), (8, 10), (8, 13), (8, 16), (8, 19), (10, 1), (10, 4), (10, 7), (10, 10), (10, 13), (10, 16), (10, 19), (12, 1), (12, 4), (12, 7), (12, 10), (12, 13), (12, 16), (12, 19), (14, 1), (14, 4), (14, 7), (14, 10), (14, 13), (14, 16), (14, 19), (16, 1), (16, 4), (16, 7), (16, 10), (16, 13), (16, 16), (16, 19), (18, 1), (18, 4), (18, 7), (18, 10), (18, 13), (18, 16), (18, 19)]\n"
     ]
    }
   ],
   "source": [
    "cordinates=[(x,y) for x in range(2,20,2) for y in range(1,20,3)]\n",
    "print(cordinates )"
   ]
  },
  {
   "cell_type": "code",
   "execution_count": 7,
   "metadata": {},
   "outputs": [
    {
     "name": "stdout",
     "output_type": "stream",
     "text": [
      "7\n"
     ]
    }
   ],
   "source": [
    "def add(a,b):\n",
    "    c=a+b\n",
    "    print(c)\n",
    "result=add(3,4)\n",
    "print(result)"
   ]
  },
  {
   "cell_type": "code",
   "execution_count": 10,
   "metadata": {},
   "outputs": [
    {
     "name": "stdout",
     "output_type": "stream",
     "text": [
      " 67.0 degrees F= 19.44 degrees C \n"
     ]
    }
   ],
   "source": [
    "def convert_far_to_cel(faranheit):\n",
    "    celsius = (faranheit - 32) * 5/9\n",
    "    return celsius\n",
    "faranheit=float(input(\"Enter a temperature in degrees F: \"))\n",
    "celsius=convert_far_to_cel(faranheit)\n",
    "print(f\" {faranheit} degrees F= {celsius:.2f} degrees C \")"
   ]
  },
  {
   "cell_type": "markdown",
   "metadata": {},
   "source": []
  },
  {
   "cell_type": "code",
   "execution_count": 11,
   "metadata": {},
   "outputs": [
    {
     "name": "stdout",
     "output_type": "stream",
     "text": [
      " 56.0 degrees F= 132.80 degrees C \n"
     ]
    }
   ],
   "source": [
    "def convert_cel_to_far(celsius):\n",
    "    faranheit  = celsius * 9/5 + 32\n",
    "    return faranheit\n",
    "celsius=float(input(\"Enter a temperature in degrees C: \"))\n",
    "faranheit=convert_cel_to_far(celsius)\n",
    "print(f\" {celsius} degrees F= {faranheit:.2f} degrees C \")"
   ]
  },
  {
   "cell_type": "markdown",
   "metadata": {},
   "source": [
    "def convert_cel_to_far(celsius):\n",
    "    faranheit  = celsius * 9/5 + 32\n",
    "    return faranheit\n",
    "celsius=float(input(\"Enter a temperature in degrees C: \"))\n",
    "faranheit=convert_cel_to_far(celsius)\n",
    "print(f\" {celsius} degrees F= {faranheit:.2f} degrees C \")"
   ]
  },
  {
   "cell_type": "code",
   "execution_count": 31,
   "metadata": {},
   "outputs": [
    {
     "name": "stdout",
     "output_type": "stream",
     "text": [
      "Year 1 : $ 105.00\n",
      "Year 2 : $ 110.25\n",
      "Year 3 : $ 115.76\n",
      "Year 4 : $ 121.55\n"
     ]
    },
    {
     "data": {
      "text/plain": [
       "121.55062500000003"
      ]
     },
     "execution_count": 31,
     "metadata": {},
     "output_type": "execute_result"
    }
   ],
   "source": [
    "\n",
    "def invest(amount, rate, years):\n",
    "    for yil in range(1,years+1):\n",
    "        result = amount*(1+rate/100) ** yil\n",
    "        print(f\"Year {yil} : $ {result:.2f}\")\n",
    "    return result\n",
    "amount = float(input(\" Investitsiya miqdori: \"))\n",
    "rate = float(input(\"Foiz stavkasi: \"))\n",
    "years= int(input(\" Yillar: \"))\n",
    "invest(amount, rate, years)"
   ]
  },
  {
   "cell_type": "code",
   "execution_count": 37,
   "metadata": {},
   "outputs": [
    {
     "name": "stdout",
     "output_type": "stream",
     "text": [
      " 1 is factor of 12\n",
      " 2 is factor of 12\n",
      " 3 is factor of 12\n",
      " 4 is factor of 12\n",
      " 6 is factor of 12\n",
      " 12 is factor of 12\n"
     ]
    }
   ],
   "source": [
    "def factors(number):\n",
    "    for i in range(1,number+1):\n",
    "        if number % i == 0:\n",
    "            print(f\" {i} is factor of {number}\")\n",
    "              \n",
    "number = int(input(\"Enter positive integer: \"))\n",
    "factors(number)"
   ]
  },
  {
   "cell_type": "code",
   "execution_count": 46,
   "metadata": {},
   "outputs": [
    {
     "ename": "ModuleNotFoundError",
     "evalue": "No module named 'numpy'",
     "output_type": "error",
     "traceback": [
      "\u001b[0;31m---------------------------------------------------------------------------\u001b[0m",
      "\u001b[0;31mModuleNotFoundError\u001b[0m                       Traceback (most recent call last)",
      "Cell \u001b[0;32mIn[46], line 1\u001b[0m\n\u001b[0;32m----> 1\u001b[0m \u001b[38;5;28;01mimport\u001b[39;00m \u001b[38;5;21;01mnumpy\u001b[39;00m \n\u001b[1;32m      2\u001b[0m universities \u001b[38;5;241m=\u001b[39m [\n\u001b[1;32m      3\u001b[0m     [\u001b[38;5;124m'\u001b[39m\u001b[38;5;124mCalifornia Institute of Technology\u001b[39m\u001b[38;5;124m'\u001b[39m, \u001b[38;5;241m2175\u001b[39m, \u001b[38;5;241m37704\u001b[39m],\n\u001b[1;32m      4\u001b[0m     [\u001b[38;5;124m'\u001b[39m\u001b[38;5;124mHarvard\u001b[39m\u001b[38;5;124m'\u001b[39m, \u001b[38;5;241m19627\u001b[39m, \u001b[38;5;241m39849\u001b[39m],\n\u001b[0;32m   (...)\u001b[0m\n\u001b[1;32m      9\u001b[0m     [\u001b[38;5;124m'\u001b[39m\u001b[38;5;124mYale\u001b[39m\u001b[38;5;124m'\u001b[39m, \u001b[38;5;241m11701\u001b[39m, \u001b[38;5;241m40500\u001b[39m]\n\u001b[1;32m     10\u001b[0m ]\n\u001b[1;32m     11\u001b[0m \u001b[38;5;28;01mdef\u001b[39;00m \u001b[38;5;21menrollment_stats\u001b[39m(uni,students,tuition_fee):\n",
      "\u001b[0;31mModuleNotFoundError\u001b[0m: No module named 'numpy'"
     ]
    }
   ],
   "source": [
    "import numpy \n",
    "universities = [\n",
    "    ['California Institute of Technology', 2175, 37704],\n",
    "    ['Harvard', 19627, 39849],\n",
    "    ['Massachusetts Institute of Technology', 10566, 40732],\n",
    "    ['Princeton', 7802, 37000],\n",
    "    ['Rice', 5879, 35551],\n",
    "    ['Stanford', 19535, 40569],\n",
    "    ['Yale', 11701, 40500]\n",
    "]\n",
    "def enrollment_stats(uni,students,tuition_fee):\n",
    "        uni = [list[0] for list in universities]\n",
    "        students=[list[1] for list in universities]\n",
    "        tuition_fee=[list[2] for list in universities]\n",
    "        list1 = summ(students)\n",
    "        list2 = summ(tuition_fee)\n",
    "        def mean(l):\n",
    "                result=l % len(l)\n",
    "                return result\n",
    "      \n",
    "        print(f\"Total students: {list1}\")\n",
    "        print(f\"Total tuition: {list2}\") \n",
    "        print(f\"Student mean: {result}\")\n",
    "        print(f\"Student median: {y}\")\n",
    "enrollment_stats(uni,students,tuition_fee)\n"
   ]
  },
  {
   "cell_type": "code",
   "execution_count": 47,
   "metadata": {},
   "outputs": [
    {
     "ename": "ModuleNotFoundError",
     "evalue": "No module named 'numpy'",
     "output_type": "error",
     "traceback": [
      "\u001b[0;31m---------------------------------------------------------------------------\u001b[0m",
      "\u001b[0;31mModuleNotFoundError\u001b[0m                       Traceback (most recent call last)",
      "Cell \u001b[0;32mIn[47], line 1\u001b[0m\n\u001b[0;32m----> 1\u001b[0m \u001b[38;5;28;01mimport\u001b[39;00m \u001b[38;5;21;01mnumpy\u001b[39;00m\n\u001b[1;32m      3\u001b[0m speed \u001b[38;5;241m=\u001b[39m [\u001b[38;5;241m99\u001b[39m,\u001b[38;5;241m86\u001b[39m,\u001b[38;5;241m87\u001b[39m,\u001b[38;5;241m88\u001b[39m,\u001b[38;5;241m86\u001b[39m,\u001b[38;5;241m103\u001b[39m,\u001b[38;5;241m87\u001b[39m,\u001b[38;5;241m94\u001b[39m,\u001b[38;5;241m78\u001b[39m,\u001b[38;5;241m77\u001b[39m,\u001b[38;5;241m85\u001b[39m,\u001b[38;5;241m86\u001b[39m]\n\u001b[1;32m      5\u001b[0m x \u001b[38;5;241m=\u001b[39m numpy\u001b[38;5;241m.\u001b[39mmedian(speed)\n",
      "\u001b[0;31mModuleNotFoundError\u001b[0m: No module named 'numpy'"
     ]
    }
   ],
   "source": [
    "import numpy\n",
    "\n",
    "speed = [99,86,87,88,86,103,87,94,78,77,85,86]\n",
    "\n",
    "x = numpy.median(speed)\n",
    "\n",
    "print(x)"
   ]
  },
  {
   "cell_type": "code",
   "execution_count": 24,
   "metadata": {},
   "outputs": [
    {
     "name": "stdout",
     "output_type": "stream",
     "text": [
      "None\n"
     ]
    }
   ],
   "source": [
    "import math\n",
    "def is_prime(n):\n",
    "    i=2\n",
    "    \n",
    "    if n%i==0:\n",
    "        if n!=i:\n",
    "          print(False)\n",
    "        else:\n",
    "          print(True)\n",
    "    i+=1\n",
    "    \n",
    "n=int(input(\"natural son kiriting: \"))\n",
    "result=is_prime(n)\n",
    "print(result)"
   ]
  },
  {
   "cell_type": "markdown",
   "metadata": {},
   "source": []
  }
 ],
 "metadata": {
  "kernelspec": {
   "display_name": "Python 3",
   "language": "python",
   "name": "python3"
  },
  "language_info": {
   "codemirror_mode": {
    "name": "ipython",
    "version": 3
   },
   "file_extension": ".py",
   "mimetype": "text/x-python",
   "name": "python",
   "nbconvert_exporter": "python",
   "pygments_lexer": "ipython3",
   "version": "3.12.8"
  }
 },
 "nbformat": 4,
 "nbformat_minor": 2
}
