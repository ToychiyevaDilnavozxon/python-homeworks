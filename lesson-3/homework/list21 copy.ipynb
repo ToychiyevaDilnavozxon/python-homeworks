{
 "cells": [
  {
   "cell_type": "markdown",
   "metadata": {},
   "source": [
    "list19\n",
    "Replace Element**: Given a list, replace the first occurrence of a specified element with another element.^^"
   ]
  },
  {
   "cell_type": "code",
   "execution_count": 16,
   "metadata": {},
   "outputs": [
    {
     "name": "stdout",
     "output_type": "stream",
     "text": [
      "[1, 9, 3, 4, 5, 6]\n",
      "1\n"
     ]
    }
   ],
   "source": [
    "a = [1, 2, 3, 4, 5, 6]\n",
    "c=a.index(2)\n",
    "a.remove(2)\n",
    "a.insert(c,9)\n",
    "print(a)\n",
    "print(c)\n"
   ]
  },
  {
   "cell_type": "markdown",
   "metadata": {},
   "source": [
    "list20\n",
    " **Find Second Largest**: From a given list, find the second largest element.\n",
    " "
   ]
  },
  {
   "cell_type": "code",
   "execution_count": 21,
   "metadata": {},
   "outputs": [
    {
     "name": "stdout",
     "output_type": "stream",
     "text": [
      "7\n"
     ]
    }
   ],
   "source": [
    "\n",
    "a=[1,5,5,6,7,5,9,0]\n",
    "b=max(a)\n",
    "a.remove(b)\n",
    "c=max(a)\n",
    "\n",
    "print(c)"
   ]
  },
  {
   "cell_type": "markdown",
   "metadata": {},
   "source": [
    "list21\n",
    "**Find Second Smallest**: From a given list, find the second smallest element."
   ]
  },
  {
   "cell_type": "code",
   "execution_count": 22,
   "metadata": {},
   "outputs": [
    {
     "name": "stdout",
     "output_type": "stream",
     "text": [
      "1\n"
     ]
    }
   ],
   "source": [
    "a=[1,5,5,6,7,5,9,0]\n",
    "b=min(a)\n",
    "a.remove(b)\n",
    "c=min(a)\n",
    "\n",
    "print(c)"
   ]
  },
  {
   "cell_type": "markdown",
   "metadata": {},
   "source": [
    "list22\n",
    "**Filter Even Numbers**: Given a list of integers, create a new list that contains only the even numbers.\n"
   ]
  },
  {
   "cell_type": "code",
   "execution_count": 26,
   "metadata": {},
   "outputs": [
    {
     "name": "stdout",
     "output_type": "stream",
     "text": [
      "juft: [2, 4, 6]\n"
     ]
    }
   ],
   "source": [
    "a=[1,2,3,4,1,2,3,1,6,9]\n",
    "b = [num for num in a if num % 2 == 0]\n",
    "c=list(set(b))\n",
    "print(\"juft:\",c)"
   ]
  },
  {
   "cell_type": "markdown",
   "metadata": {},
   "source": []
  },
  {
   "cell_type": "markdown",
   "metadata": {},
   "source": [
    "list23\n",
    " **Filter Odd Numbers**: Given a list of integers, create a new list that contains only the odd numbers.\n",
    " \n"
   ]
  },
  {
   "cell_type": "code",
   "execution_count": 27,
   "metadata": {},
   "outputs": [
    {
     "name": "stdout",
     "output_type": "stream",
     "text": [
      "Toq: [1, 3, 9]\n"
     ]
    }
   ],
   "source": [
    "a=[1,2,3,4,1,2,3,1,6,9]\n",
    "b = [num for num in a if num % 2 == 1]\n",
    "c=list(set(b))\n",
    "print(\"Toq:\",c)"
   ]
  },
  {
   "cell_type": "markdown",
   "metadata": {},
   "source": [
    "list24\n",
    "**List Length**: Determine the number of elements in the list."
   ]
  },
  {
   "cell_type": "code",
   "execution_count": 30,
   "metadata": {},
   "outputs": [
    {
     "name": "stdout",
     "output_type": "stream",
     "text": [
      "9\n"
     ]
    }
   ],
   "source": [
    "a=[1,2,3,5,1,2,3,2,3]\n",
    "b=len(a)\n",
    "print(b)"
   ]
  },
  {
   "cell_type": "markdown",
   "metadata": {},
   "source": [
    "list25\n",
    "**Create a Copy**: Create a new list that is a copy of the original list.\n"
   ]
  },
  {
   "cell_type": "code",
   "execution_count": 33,
   "metadata": {},
   "outputs": [
    {
     "name": "stdout",
     "output_type": "stream",
     "text": [
      "[2, 9, 8, 9, 7, 6, 8, 3]\n"
     ]
    }
   ],
   "source": [
    "a=[2,9,8,9,7,6,8,3]\n",
    "a.copy()\n",
    "print(a)"
   ]
  },
  {
   "cell_type": "markdown",
   "metadata": {},
   "source": [
    "list26\n",
    "*Get Middle Element**: Given a list, find the middle element. If the list has an even number of elements, return the two middle elements."
   ]
  },
  {
   "cell_type": "code",
   "execution_count": 3,
   "metadata": {},
   "outputs": [
    {
     "name": "stdout",
     "output_type": "stream",
     "text": [
      "Middle element(s) of odd list: 3\n",
      "Middle element(s) of even list: [3, 4]\n"
     ]
    }
   ],
   "source": [
    "def get_middle_elements(lst):\n",
    "    n = len(lst)\n",
    "    if n == 0:\n",
    "        return \"The list is empty.\"\n",
    "    elif n % 2 == 1:  # Odd length\n",
    "        return lst[n // 2]\n",
    "    else:  # Even length\n",
    "        return lst[n // 2 - 1:n // 2 + 1]\n",
    "example_list1 = [1, 2, 3, 4, 5]\n",
    "example_list2 = [1, 2, 3, 4, 5, 6]\n",
    "\n",
    "print(\"Middle element(s) of odd list:\", get_middle_elements(example_list1))\n",
    "print(\"Middle element(s) of even list:\", get_middle_elements(example_list2))"
   ]
  },
  {
   "cell_type": "markdown",
   "metadata": {},
   "source": [
    "list27\n",
    "Given a list, find the maximum element of a specified sublist.\n",
    "^^^^^"
   ]
  },
  {
   "cell_type": "code",
   "execution_count": 4,
   "metadata": {},
   "outputs": [
    {
     "name": "stdout",
     "output_type": "stream",
     "text": [
      "The maximum element in the sublist is: 8\n"
     ]
    }
   ],
   "source": [
    "def max_in_sublist(lst, start, end):\n",
    "    # Validate indices\n",
    "    if start < 0 or end > len(lst) or start >= end:\n",
    "        return \"Invalid sublist range.\"\n",
    "    # Slice the sublist and find the maximum\n",
    "    sublist = lst[start:end]\n",
    "    return max(sublist)\n",
    "\n",
    "# Example usage\n",
    "example_list = [4, 7, 1, 8, 3, 9, 2]\n",
    "\n",
    "# Specify the sublist range\n",
    "start_index = 1\n",
    "end_index = 5\n",
    "\n",
    "result = max_in_sublist(example_list, start_index, end_index)\n",
    "print(f\"The maximum element in the sublist is: {result}\")"
   ]
  },
  {
   "cell_type": "markdown",
   "metadata": {},
   "source": [
    "list28\n",
    "Given a list, find the minimum element of a specified sublist."
   ]
  },
  {
   "cell_type": "code",
   "execution_count": 5,
   "metadata": {},
   "outputs": [
    {
     "name": "stdout",
     "output_type": "stream",
     "text": [
      "1\n"
     ]
    }
   ],
   "source": [
    "def max_in_sublist(lst,start,end):\n",
    "    if start<0 or end>len(lst) or start>=end:\n",
    "        return \"invalid sublist range\"\n",
    "    sublist = lst[start:end]\n",
    "    return min(sublist)\n",
    "\n",
    "example_list=[1,2,1,3,4,3,4,5,6,3]\n",
    "start_index=1\n",
    "end_index=9\n",
    "result = max_in_sublist(example_list,start_index,end_index)\n",
    "print(result)"
   ]
  },
  {
   "cell_type": "markdown",
   "metadata": {},
   "source": [
    "list28\n",
    "Given a list and an index, remove the element at that index if it exists."
   ]
  },
  {
   "cell_type": "code",
   "execution_count": 6,
   "metadata": {},
   "outputs": [
    {
     "name": "stdout",
     "output_type": "stream",
     "text": [
      "Removed element: 30\n",
      "Updated list: [10, 20, 40, 50]\n"
     ]
    }
   ],
   "source": [
    "def remove_element_at_index(lst, index):\n",
    "  \n",
    "    if 0 <= index < len(lst):\n",
    "        removed_element = lst.pop(index)\n",
    "        return f\"Removed element: {removed_element}\", lst\n",
    "    else:\n",
    "        return \"Invalid index. No element removed.\", lst\n",
    "\n",
    "\n",
    "example_list = [10, 20, 30, 40, 50]\n",
    "index_to_remove = 2\n",
    "\n",
    "result, updated_list = remove_element_at_index(example_list, index_to_remove)\n",
    "print(result)\n",
    "print(\"Updated list:\", updated_list)"
   ]
  },
  {
   "cell_type": "markdown",
   "metadata": {},
   "source": [
    "list29\n",
    "**Check if List is Sorted**: Determine if the list is sorted in ascending order and return a boolean.\n"
   ]
  },
  {
   "cell_type": "code",
   "execution_count": 8,
   "metadata": {},
   "outputs": [
    {
     "name": "stdout",
     "output_type": "stream",
     "text": [
      "True\n",
      "False\n"
     ]
    }
   ],
   "source": [
    "def is_sorted(lst):\n",
    "    return all(lst[i] <= lst[i + 1] for i in range(len(lst) - 1))\n",
    "\n",
    "# Example usage:\n",
    "example_list = [1, 2, 3, 4, 5]\n",
    "print(is_sorted(example_list))  # Output: True\n",
    "\n",
    "unsorted_list = [1, 3, 2, 4]\n",
    "print(is_sorted(unsorted_list))\n",
    "\n"
   ]
  },
  {
   "cell_type": "markdown",
   "metadata": {},
   "source": [
    "list30\n",
    " **Repeat Elements**: Given a list and a number, create a new list where each element is repeated that number of times."
   ]
  },
  {
   "cell_type": "code",
   "execution_count": 9,
   "metadata": {},
   "outputs": [
    {
     "name": "stdout",
     "output_type": "stream",
     "text": [
      "[1, 1, 1, 2, 2, 2, 3, 3, 3]\n"
     ]
    }
   ],
   "source": [
    "def repeat_elements(lst, n):\n",
    "    return [item for item in lst for _ in range(n)]\n",
    "\n",
    "# Example usage:\n",
    "original_list = [1, 2, 3]\n",
    "repeated_list = repeat_elements(original_list, 3)\n",
    "print(repeated_list)  # Output: [1, 1, 1, 2, 2, 2, 3, 3, 3]"
   ]
  },
  {
   "cell_type": "markdown",
   "metadata": {},
   "source": [
    "list31\n",
    "**Merge and Sort**: Given two lists, create a new sorted list that merges both lists."
   ]
  },
  {
   "cell_type": "code",
   "execution_count": 10,
   "metadata": {},
   "outputs": [
    {
     "name": "stdout",
     "output_type": "stream",
     "text": [
      "[1, 2, 3, 4, 5, 6]\n"
     ]
    }
   ],
   "source": [
    "def merge_and_sort(list1, list2):\n",
    "    return sorted(list1 + list2)\n",
    "\n",
    "\n",
    "list1 = [3, 1, 4]\n",
    "list2 = [5, 2, 6]\n",
    "merged_sorted_list = merge_and_sort(list1, list2)\n",
    "print(merged_sorted_list)  # Output: [1, 2, 3, 4, 5, 6]"
   ]
  },
  {
   "cell_type": "markdown",
   "metadata": {},
   "source": [
    "list32\n",
    "**Find All Indices**: Given a list and an element, find all the indices of that element in the list."
   ]
  },
  {
   "cell_type": "code",
   "execution_count": null,
   "metadata": {},
   "outputs": [],
   "source": [
    "\n"
   ]
  },
  {
   "cell_type": "markdown",
   "metadata": {},
   "source": [
    "list33\n",
    " **Rotate List**: Given a list, create a new list that is a rotated version of the original list (shift elements to the right)."
   ]
  },
  {
   "cell_type": "code",
   "execution_count": null,
   "metadata": {},
   "outputs": [],
   "source": [
    "def rotate_list(lst, k):\n",
    "    if not lst:  # Check if the list is empty\n",
    "        return lst\n",
    "    k = k % len(lst)  # Handle cases where k is larger than the list length\n",
    "    return lst[-k:] + lst[:-k]\n",
    "\n",
    "# Example usage:\n",
    "original_list = [1, 2, 3, 4, 5]\n",
    "rotated_list = rotate_list(original_list, 2)\n",
    "print(rotated_list)  # Output: [4, 5, 1, 2, 3]"
   ]
  },
  {
   "cell_type": "markdown",
   "metadata": {},
   "source": [
    "list34\n",
    "**Create Range List**: Create a list of numbers in a specified range (e.g., from 1 to 10)."
   ]
  },
  {
   "cell_type": "code",
   "execution_count": null,
   "metadata": {},
   "outputs": [],
   "source": [
    "def create_range_list(start, end):\n",
    "    return list(range(start, end + 1))\n",
    "\n",
    "\n",
    "range_list = create_range_list(1, 10)\n",
    "print(range_list)  # Output: [1, 2, 3, 4, 5, 6, 7, 8, 9, 10]"
   ]
  },
  {
   "cell_type": "markdown",
   "metadata": {},
   "source": [
    "list35\n",
    "**Sum of Positive Numbers**: Given a list of numbers, calculate the sum of all positive numbers."
   ]
  },
  {
   "cell_type": "code",
   "execution_count": null,
   "metadata": {},
   "outputs": [],
   "source": [
    "def sum_of_positive_numbers(lst):\n",
    "    return sum(num for num in lst if num > 0)\n",
    "\n",
    "\n",
    "\n",
    "numbers = [1, -2, 3, 4, -5, 6]\n",
    "result = sum_of_positive_numbers(numbers)\n",
    "print(result) \n"
   ]
  },
  {
   "cell_type": "markdown",
   "metadata": {},
   "source": [
    "list37\n",
    "**Sum of Negative Numbers**: Given a list of numbers, calculate the sum of all negative numbers."
   ]
  },
  {
   "cell_type": "code",
   "execution_count": 11,
   "metadata": {},
   "outputs": [
    {
     "name": "stdout",
     "output_type": "stream",
     "text": [
      "-7\n"
     ]
    }
   ],
   "source": [
    "def sum_of_positive_numbers(lst):\n",
    "    return sum(num for num in lst if num < 0)\n",
    "\n",
    "\n",
    "\n",
    "numbers = [1, -2, 3, 4, -5, 6]\n",
    "result = sum_of_positive_numbers(numbers)\n",
    "print(result) \n"
   ]
  },
  {
   "cell_type": "markdown",
   "metadata": {},
   "source": [
    "list38\n",
    "**Check Palindrome**: Given a list, check if the list is a palindrome (reads the same forwards and backwards)."
   ]
  },
  {
   "cell_type": "code",
   "execution_count": 12,
   "metadata": {},
   "outputs": [
    {
     "name": "stdout",
     "output_type": "stream",
     "text": [
      "True\n"
     ]
    }
   ],
   "source": [
    "def is_palindrome(lst):\n",
    "    return lst == lst[::-1]\n",
    "\n",
    "\n",
    "example_list = [1, 2, 3, 2, 1]\n",
    "result = is_palindrome(example_list)\n",
    "print(result) "
   ]
  },
  {
   "cell_type": "markdown",
   "metadata": {},
   "source": [
    "list 39\n",
    "**Create Nested List**: Create a new list that contains sublists, where each sublist contains a specified number of elements from the original list."
   ]
  },
  {
   "cell_type": "code",
   "execution_count": 13,
   "metadata": {},
   "outputs": [
    {
     "name": "stdout",
     "output_type": "stream",
     "text": [
      "[[1, 2, 3], [4, 5, 6], [7, 8, 9]]\n"
     ]
    }
   ],
   "source": [
    "def create_nested_list(lst, n):\n",
    "    return [lst[i:i + n] for i in range(0, len(lst), n)]\n",
    "\n",
    "\n",
    "original_list = [1, 2, 3, 4, 5, 6, 7, 8, 9]\n",
    "nested_list = create_nested_list(original_list, 3)\n",
    "print(nested_list) "
   ]
  },
  {
   "cell_type": "markdown",
   "metadata": {},
   "source": [
    "list40\n",
    " **Get Unique Elements in Order**: Given a list, create a new list that contains unique elements while maintaining the original order."
   ]
  },
  {
   "cell_type": "code",
   "execution_count": null,
   "metadata": {},
   "outputs": [],
   "source": []
  },
  {
   "cell_type": "markdown",
   "metadata": {},
   "source": [
    "tuple1\n",
    " **Count Occurrences**: Given a tuple and an element, find how many times the element appears in the tuple.\n",
    " "
   ]
  },
  {
   "cell_type": "code",
   "execution_count": 15,
   "metadata": {},
   "outputs": [
    {
     "name": "stdout",
     "output_type": "stream",
     "text": [
      "4\n"
     ]
    }
   ],
   "source": [
    "a=(1,2,1,1,1,2,4,5)\n",
    "c=a.count(1)\n",
    "print(c)"
   ]
  },
  {
   "cell_type": "markdown",
   "metadata": {},
   "source": [
    "tuple2\n",
    "**Max Element**: From a given tuple, determine the largest element."
   ]
  },
  {
   "cell_type": "code",
   "execution_count": 16,
   "metadata": {},
   "outputs": [
    {
     "name": "stdout",
     "output_type": "stream",
     "text": [
      "9\n"
     ]
    }
   ],
   "source": [
    "a=(1,2,5,6,9)\n",
    "b=max(a)\n",
    "print(b)"
   ]
  },
  {
   "cell_type": "markdown",
   "metadata": {},
   "source": [
    "tuple3\n",
    "**Min Element**: From a given tuple, determine the smallest element."
   ]
  },
  {
   "cell_type": "code",
   "execution_count": 17,
   "metadata": {},
   "outputs": [
    {
     "name": "stdout",
     "output_type": "stream",
     "text": [
      "1\n"
     ]
    }
   ],
   "source": [
    "a=(1,2,5,6,9)\n",
    "b=min(a)\n",
    "print(b)"
   ]
  },
  {
   "cell_type": "markdown",
   "metadata": {},
   "source": [
    "tuple4\n",
    "**Check Element**: Given a tuple and an element, check if the element is present in the tuple."
   ]
  },
  {
   "cell_type": "code",
   "execution_count": 18,
   "metadata": {},
   "outputs": [
    {
     "name": "stdout",
     "output_type": "stream",
     "text": [
      "True\n"
     ]
    }
   ],
   "source": [
    "def check_element(tpl, element):\n",
    "    return element in tpl\n",
    "\n",
    "\n",
    "example_tuple = (1, 2, 3, 4, 5)\n",
    "element_to_check = 3\n",
    "result = check_element(example_tuple, element_to_check)\n",
    "print(result)\n"
   ]
  },
  {
   "cell_type": "markdown",
   "metadata": {},
   "source": [
    "list5\n",
    " **First Element**: Access the first element of a tuple, considering what to return if the tuple is empty."
   ]
  },
  {
   "cell_type": "code",
   "execution_count": null,
   "metadata": {},
   "outputs": [],
   "source": [
    "def first_element(tpl):\n",
    "    if tpl:\n",
    "        return tpl[0]\n",
    "    else:\n",
    "        return None \n",
    "\n",
    "\n",
    "example_tuple = (1, 2, 3, 4, 5)\n",
    "empty_tuple = ()\n",
    "\n",
    "result1 = first_element(example_tuple)\n",
    "result2 = first_element(empty_tuple)\n",
    "\n",
    "print(result1)  \n",
    "print(result2)  "
   ]
  },
  {
   "cell_type": "markdown",
   "metadata": {},
   "source": [
    "list6\n",
    " **Last Element**: Access the last element of a tuple, considering what to return if the tuple is empty."
   ]
  },
  {
   "cell_type": "code",
   "execution_count": 19,
   "metadata": {},
   "outputs": [
    {
     "name": "stdout",
     "output_type": "stream",
     "text": [
      "5\n",
      "None\n"
     ]
    }
   ],
   "source": [
    "def first_element(tpl):\n",
    "    if tpl:\n",
    "        return tpl[len(tpl)-1]\n",
    "    else:\n",
    "        return None \n",
    "\n",
    "\n",
    "example_tuple = (1, 2, 3, 4, 5)\n",
    "empty_tuple = ()\n",
    "\n",
    "result1 = first_element(example_tuple)\n",
    "result2 = first_element(empty_tuple)\n",
    "\n",
    "print(result1)  \n",
    "print(result2)  "
   ]
  },
  {
   "cell_type": "markdown",
   "metadata": {},
   "source": [
    "list7\n",
    "**Tuple Length**: Determine the number of elements in the tuple."
   ]
  },
  {
   "cell_type": "code",
   "execution_count": 22,
   "metadata": {},
   "outputs": [
    {
     "name": "stdout",
     "output_type": "stream",
     "text": [
      "5\n",
      "0\n"
     ]
    }
   ],
   "source": [
    "def tuple_length(tpl):\n",
    "    return len(tpl)\n",
    "\n",
    "\n",
    "example_tuple = (1, 2, 3, 4, 5)\n",
    "empty_tuple = ()\n",
    "\n",
    "length1 = tuple_length(example_tuple)\n",
    "length2 = tuple_length(empty_tuple)\n",
    "\n",
    "print(length1)  \n",
    "print(length2)   \n"
   ]
  },
  {
   "cell_type": "markdown",
   "metadata": {},
   "source": [
    "list8\n",
    "**Slice Tuple**: Create a new tuple that contains only the first three elements of the original tuple."
   ]
  },
  {
   "cell_type": "code",
   "execution_count": 23,
   "metadata": {},
   "outputs": [
    {
     "name": "stdout",
     "output_type": "stream",
     "text": [
      "(1, 2, 3)\n"
     ]
    }
   ],
   "source": [
    "def slice_tuple(tpl):\n",
    "    return tpl[:3]\n",
    "\n",
    "\n",
    "example_tuple = (1, 2, 3, 4, 5, 6)\n",
    "result = slice_tuple(example_tuple)\n",
    "print(result) "
   ]
  },
  {
   "cell_type": "markdown",
   "metadata": {},
   "source": [
    "list9\n",
    "**Concatenate Tuples**: Given two tuples, create a new tuple that combines both."
   ]
  },
  {
   "cell_type": "code",
   "execution_count": 24,
   "metadata": {},
   "outputs": [
    {
     "name": "stdout",
     "output_type": "stream",
     "text": [
      "(1, 4, 3, 4, 5, 6)\n"
     ]
    }
   ],
   "source": [
    "def concatenate_tuples(tpl1, tpl2):\n",
    "    return tpl1 + tpl2\n",
    "\n",
    "\n",
    "tuple1 = (1, 4, 3)\n",
    "tuple2 = (4, 5, 6)\n",
    "result = concatenate_tuples(tuple1, tuple2)\n",
    "print(result)  \n"
   ]
  },
  {
   "cell_type": "markdown",
   "metadata": {},
   "source": [
    "list10\n",
    "**Check if Tuple is Empty**: Determine if a tuple has any elements."
   ]
  },
  {
   "cell_type": "code",
   "execution_count": 32,
   "metadata": {},
   "outputs": [
    {
     "name": "stdout",
     "output_type": "stream",
     "text": [
      "None\n"
     ]
    }
   ],
   "source": [
    "def original_list(tpl):\n",
    "    if not tpl:\n",
    "        return None\n",
    "    else: \n",
    "        return tpl\n",
    "    \n",
    "    \n",
    "\n",
    "example_tuple=()\n",
    "result=original_list(example_tuple)\n",
    "\n",
    "print(result)  "
   ]
  },
  {
   "cell_type": "markdown",
   "metadata": {},
   "source": [
    "list11\n",
    "**Get All Indices of Element**: Given a tuple and an element, find all the indices of that element in the tuple."
   ]
  },
  {
   "cell_type": "code",
   "execution_count": null,
   "metadata": {},
   "outputs": [],
   "source": [
    "def get_all_indices(tpl, element):\n",
    "    indices = [] \n",
    "    for index, value in enumerate(tpl):  \n",
    "        if value == element:  \n",
    "            indices.append(index) \n",
    "    return indices\n",
    "\n",
    "\n",
    "\n",
    "example_tuple = (1, 2, 3, 2, 4, 2, 5)\n",
    "element_to_find = 2\n",
    "result = get_all_indices(example_tuple, element_to_find)\n",
    "print(result)  \n"
   ]
  },
  {
   "cell_type": "markdown",
   "metadata": {},
   "source": [
    "list12\n",
    " **Find Second Largest**: From a given tuple, find the second largest element."
   ]
  },
  {
   "cell_type": "code",
   "execution_count": 43,
   "metadata": {},
   "outputs": [
    {
     "name": "stdout",
     "output_type": "stream",
     "text": [
      "5\n"
     ]
    }
   ],
   "source": [
    "def second(tpl):\n",
    "    if len(tpl) < 2:  # Agar tupleda kamida 2 element bo'lmasa, ikkinchi kichikni topish mumkin emas\n",
    "        return None\n",
    "    \n",
    "    # Tupleni setga aylantirib, takrorlanadigan elementlarni olib tashlaymiz\n",
    "    unique_tpl = set(tpl)\n",
    "    \n",
    "    if len(unique_tpl) < 2:  # Agar tupleda faqat bitta unikal element bo'lsa\n",
    "        return None\n",
    "    \n",
    "    # Setni tartiblaymiz va ikkinchi kichik elementni olish\n",
    "    sorted_tpl = sorted(unique_tpl)\n",
    "    return sorted_tpl[len(sorted_tpl)-2]  # Ikkinchi elementni qaytaramiz\n",
    "\n",
    "# Misol foydalanish:\n",
    "example_tuple = (5, 3, 9, 1, 3, 4)\n",
    "result = second(example_tuple)\n",
    "print(result)  \n"
   ]
  },
  {
   "cell_type": "markdown",
   "metadata": {},
   "source": [
    "list13\n",
    " **Find Second Smallest**: From a given tuple, find the second smallest element."
   ]
  },
  {
   "cell_type": "code",
   "execution_count": null,
   "metadata": {},
   "outputs": [],
   "source": [
    "a=(1,2,3,5,1,3,4)\n",
    "b=sorted(a)\n",
    "c=list(set(b))\n",
    "d=min(c)\n",
    "c.remove(d)\n",
    "m=min(c)\n",
    "print(m)"
   ]
  },
  {
   "cell_type": "markdown",
   "metadata": {},
   "source": [
    "list14\n",
    "**Create a Single Element Tuple**: Create a tuple that contains a single specified element."
   ]
  },
  {
   "cell_type": "code",
   "execution_count": 44,
   "metadata": {},
   "outputs": [
    {
     "name": "stdout",
     "output_type": "stream",
     "text": [
      "(5,)\n"
     ]
    }
   ],
   "source": [
    "def create_single_element_tuple(element):\n",
    "    return (element,)\n",
    "\n",
    "\n",
    "single_element_tuple = create_single_element_tuple(5)\n",
    "print(single_element_tuple) "
   ]
  },
  {
   "cell_type": "markdown",
   "metadata": {},
   "source": [
    "list15\n",
    " **Convert List to Tuple**: Given a list, create a tuple containing the same elements."
   ]
  },
  {
   "cell_type": "code",
   "execution_count": null,
   "metadata": {},
   "outputs": [],
   "source": [
    "def convert_list_to_tuple(lst):\n",
    "    return tuple(lst)\n",
    "\n",
    "\n",
    "example_list = [1, 2, 3, 4, 5]\n",
    "result = convert_list_to_tuple(example_list)\n",
    "print(result)  "
   ]
  },
  {
   "cell_type": "markdown",
   "metadata": {},
   "source": [
    "list16\n",
    "**Check if Tuple is Sorted**: Determine if the tuple is sorted in ascending order and return a boolean."
   ]
  },
  {
   "cell_type": "code",
   "execution_count": null,
   "metadata": {},
   "outputs": [],
   "source": [
    "def is_tuple_sorted(tpl):\n",
    "    return tpl == tuple(sorted(tpl))\n",
    "\n",
    "\n",
    "example_tuple = (1, 2, 3, 4, 5)\n",
    "unsorted_tuple = (5, 3, 1, 4, 2)\n",
    "\n",
    "result1 = is_tuple_sorted(example_tuple)\n",
    "result2 = is_tuple_sorted(unsorted_tuple)\n",
    "\n",
    "print(result1)  \n",
    "print(result2) "
   ]
  },
  {
   "cell_type": "markdown",
   "metadata": {},
   "source": [
    "list 17\n",
    "**Find Maximum of Subtuple**: Given a tuple, find the maximum element of a specified subtuple."
   ]
  },
  {
   "cell_type": "code",
   "execution_count": null,
   "metadata": {},
   "outputs": [],
   "source": [
    "def find_max_of_subtuple(tpl, start, end):\n",
    "    subtuple = tpl[start:end]\n",
    "    return max(subtuple)\n",
    "\n",
    "\n",
    "example_tuple = (1, 2, 3, 4, 5, 6, 7)\n",
    "start_index = 2\n",
    "end_index = 6\n",
    "\n",
    "result = find_max_of_subtuple(example_tuple, start_index, end_index)\n",
    "print(result)  \n"
   ]
  },
  {
   "cell_type": "markdown",
   "metadata": {},
   "source": [
    "list18\n",
    "**Find Minimum of Subtuple**: Given a tuple, find the minimum element of a specified subtuple."
   ]
  },
  {
   "cell_type": "code",
   "execution_count": 46,
   "metadata": {},
   "outputs": [
    {
     "name": "stdout",
     "output_type": "stream",
     "text": [
      "3\n"
     ]
    }
   ],
   "source": [
    "def find_min_of_subtuple(tpl, start, end):\n",
    "    subtuple = tpl[start:end]\n",
    "    return min(subtuple)\n",
    "\n",
    "\n",
    "example_tuple = (1, 2, 3, 4, 5, 6, 7)\n",
    "start_index = 2\n",
    "end_index = 6\n",
    "\n",
    "result = find_min_of_subtuple(example_tuple, start_index, end_index)\n",
    "print(result)  \n"
   ]
  },
  {
   "cell_type": "markdown",
   "metadata": {},
   "source": [
    "list19\n",
    " **Remove Element by Value**: Given a tuple and an element, create a new tuple that removes the first occurrence of that element."
   ]
  },
  {
   "cell_type": "code",
   "execution_count": 52,
   "metadata": {},
   "outputs": [
    {
     "name": "stdout",
     "output_type": "stream",
     "text": [
      "(1, 2, 4, 5, 3)\n"
     ]
    }
   ],
   "source": [
    "def removed_tuple(tpl,element):\n",
    "    convert_list_to_tuple=list(tpl)\n",
    "    for index,value in enumerate(convert_list_to_tuple):\n",
    "        if value==element:\n",
    "         del convert_list_to_tuple[index]\n",
    "         break\n",
    "    return tuple(convert_list_to_tuple)\n",
    "\n",
    "example_tuple = (1, 2, 3, 4, 5, 3)\n",
    "element_to_remove = 3\n",
    "\n",
    "result = removed_tuple(example_tuple, element_to_remove)\n",
    "print(result)   "
   ]
  },
  {
   "cell_type": "markdown",
   "metadata": {},
   "source": [
    "list20\n",
    "**Create Nested Tuple**: Create a new tuple that contains subtuples, where each subtuple contains specified elements from the original tuple."
   ]
  },
  {
   "cell_type": "code",
   "execution_count": 54,
   "metadata": {},
   "outputs": [
    {
     "name": "stdout",
     "output_type": "stream",
     "text": [
      "((1, 2, 3), (4, 5, 6), (7, 8))\n"
     ]
    }
   ],
   "source": [
    "def create_nested_tuple(tpl, size):\n",
    "    nested_tpl = [tuple(tpl[i:i + size]) for i in range(0, len(tpl), size)]\n",
    "    return tuple(nested_tpl)\n",
    "\n",
    "# Misol foydalanish:\n",
    "example_tuple = (1, 2, 3, 4, 5, 6, 7, 8)\n",
    "subtuple_size = 3\n",
    "\n",
    "result = create_nested_tuple(example_tuple, subtuple_size)\n",
    "print(result)  # Output: ((1, 2, 3), (4, 5, 6), (7, 8))\n"
   ]
  },
  {
   "cell_type": "markdown",
   "metadata": {},
   "source": [
    "list21\n",
    "**Repeat Elements**: Given a tuple and a number, create a new tuple where each element is repeated that number of times."
   ]
  },
  {
   "cell_type": "code",
   "execution_count": 55,
   "metadata": {},
   "outputs": [
    {
     "name": "stdout",
     "output_type": "stream",
     "text": [
      "(1, 1, 1, 2, 2, 2, 3, 3, 3)\n"
     ]
    }
   ],
   "source": [
    "def repeat_elements(input_tuple, n):\n",
    "    return tuple([elem for elem in input_tuple for _ in range(n)])\n",
    "\n",
    "\n",
    "input_tuple = (1, 2, 3)\n",
    "n = 3\n",
    "result = repeat_elements(input_tuple, n)\n",
    "print(result)\n"
   ]
  },
  {
   "cell_type": "markdown",
   "metadata": {},
   "source": [
    "list22\n",
    " **Create Range Tuple**: Create a tuple of numbers in a specified range (e.g., from 1 to 10)."
   ]
  },
  {
   "cell_type": "code",
   "execution_count": 57,
   "metadata": {},
   "outputs": [
    {
     "name": "stdout",
     "output_type": "stream",
     "text": [
      "(1, 2, 3, 4, 5, 6, 7, 8, 9, 10)\n"
     ]
    }
   ],
   "source": [
    "def create_range_tuple(start, end):\n",
    "    return tuple(range(start, end + 1))\n",
    "\n",
    "\n",
    "start = 1\n",
    "end = 10\n",
    "result = create_range_tuple(start, end)\n",
    "print(result)"
   ]
  },
  {
   "cell_type": "markdown",
   "metadata": {},
   "source": [
    "list23\n",
    "**Reverse Tuple**: Create a new tuple that contains the elements of the original tuple in reverse order."
   ]
  },
  {
   "cell_type": "code",
   "execution_count": 58,
   "metadata": {},
   "outputs": [
    {
     "name": "stdout",
     "output_type": "stream",
     "text": [
      "(9, 6, 5, 4, 1)\n"
     ]
    }
   ],
   "source": [
    "def reverse_tuple(tpl):\n",
    "    return tpl[::-1]\n",
    "\n",
    "example=(1,4,5,6,9)\n",
    "result=reverse_tuple(example)\n",
    "\n",
    "print(result)\n"
   ]
  },
  {
   "cell_type": "markdown",
   "metadata": {},
   "source": [
    "list24\n",
    "**Check Palindrome**: Given a tuple, check if the tuple is a palindrome (reads the same forwards and backwards)."
   ]
  },
  {
   "cell_type": "code",
   "execution_count": null,
   "metadata": {},
   "outputs": [],
   "source": [
    "def is_palindrome(input_tuple):\n",
    "    return input_tuple == input_tuple[::-1]\n",
    "\n",
    "\n",
    "test_tuple1 = (1, 2, 3, 2, 1)\n",
    "test_tuple2 = (1, 2, 3, 4, 5)\n",
    "\n",
    "print(is_palindrome(test_tuple1))  \n",
    "print(is_palindrome(test_tuple2))  "
   ]
  },
  {
   "cell_type": "markdown",
   "metadata": {},
   "source": [
    "list25\n",
    " **Get Unique Elements**: Given a tuple, create a new tuple that contains only the unique elements while maintaining the original order."
   ]
  },
  {
   "cell_type": "code",
   "execution_count": null,
   "metadata": {},
   "outputs": [],
   "source": []
  },
  {
   "cell_type": "markdown",
   "metadata": {},
   "source": [
    "set1\n",
    "**Union of Sets**: Given two sets, create a new set that contains all unique elements from both sets."
   ]
  },
  {
   "cell_type": "code",
   "execution_count": 61,
   "metadata": {},
   "outputs": [
    {
     "name": "stdout",
     "output_type": "stream",
     "text": [
      "{1, 2, 3, 4, 5}\n"
     ]
    }
   ],
   "source": [
    "def union_of_sets(set1, set2):\n",
    "    return set1.union(set2) # Alternatively, you can use set1.union(set2)\n",
    "\n",
    "# Example usage:\n",
    "set_a = {1, 2, 3}\n",
    "set_b = {3, 4, 5}\n",
    "union_set = union_of_sets(set_a, set_b)\n",
    "print(union_set)"
   ]
  },
  {
   "cell_type": "markdown",
   "metadata": {},
   "source": [
    "set2\n",
    "*Intersection of Sets**: Given two sets, create a new set that contains elements common to both sets.\n"
   ]
  },
  {
   "cell_type": "code",
   "execution_count": 62,
   "metadata": {},
   "outputs": [
    {
     "name": "stdout",
     "output_type": "stream",
     "text": [
      "{2, 3}\n"
     ]
    }
   ],
   "source": [
    "def intersection_of_sets(set1, set2):\n",
    "    return set1.intersection(set2)\n",
    "\n",
    "# Example usage:\n",
    "set_a = {1, 2, 3}\n",
    "set_b = {2, 3, 4}\n",
    "intersection_set = intersection_of_sets(set_a, set_b)\n",
    "print(intersection_set)"
   ]
  },
  {
   "cell_type": "markdown",
   "metadata": {},
   "source": [
    "set3\n",
    "**Difference of Sets**: Given two sets, create a new set with elements from the first set that are not in the second."
   ]
  },
  {
   "cell_type": "code",
   "execution_count": 63,
   "metadata": {},
   "outputs": [
    {
     "name": "stdout",
     "output_type": "stream",
     "text": [
      "{1, 2}\n"
     ]
    }
   ],
   "source": [
    "def difference_of_sets(set1, set2):\n",
    "    return set1.difference(set2)\n",
    "\n",
    "# Example usage:\n",
    "set_a = {1, 2, 3, 4}\n",
    "set_b = {3, 4, 5}\n",
    "difference_set = difference_of_sets(set_a, set_b)\n",
    "print(difference_set)"
   ]
  },
  {
   "cell_type": "markdown",
   "metadata": {},
   "source": [
    "set4\n",
    "**Check Subset**: Given two sets, check if one set is a subset of the other."
   ]
  },
  {
   "cell_type": "code",
   "execution_count": 64,
   "metadata": {},
   "outputs": [
    {
     "name": "stdout",
     "output_type": "stream",
     "text": [
      "True\n",
      "False\n"
     ]
    }
   ],
   "source": [
    "def is_subset(set1, set2):\n",
    "    return set1.issubset(set2)\n",
    "\n",
    "# Example usage:\n",
    "set_a = {1, 2}\n",
    "set_b = {1, 2, 3, 4}\n",
    "\n",
    "print(is_subset(set_a, set_b))  # Output: True\n",
    "print(is_subset(set_b, set_a))  # Output: False"
   ]
  },
  {
   "cell_type": "markdown",
   "metadata": {},
   "source": [
    "set5\n",
    "**Check Element**: Given a set and an element, check if the element exists in the set."
   ]
  },
  {
   "cell_type": "code",
   "execution_count": null,
   "metadata": {},
   "outputs": [],
   "source": [
    "def check_element(input_set, element):\n",
    "    return element in input_set\n",
    "\n",
    "my_set = {1, 2, 3, 4, 5}\n",
    "element_to_check = 3\n",
    "result = check_element(my_set, element_to_check)\n",
    "print(result) \n"
   ]
  },
  {
   "cell_type": "markdown",
   "metadata": {},
   "source": [
    "set6\n",
    "**Set Length**: Determine the number of unique elements in a set."
   ]
  },
  {
   "cell_type": "code",
   "execution_count": 65,
   "metadata": {},
   "outputs": [
    {
     "name": "stdout",
     "output_type": "stream",
     "text": [
      "5\n"
     ]
    }
   ],
   "source": [
    "def set_length(input_set):\n",
    "    unique=set(input_set)\n",
    "    return len(unique)\n",
    "\n",
    "\n",
    "my_set = {1, 2, 3, 4, 5}\n",
    "length = set_length(my_set)\n",
    "print(length)  "
   ]
  },
  {
   "cell_type": "markdown",
   "metadata": {},
   "source": [
    "set7\n",
    "**Convert List to Set**: Given a list, create a new set that contains only the unique elements from that list."
   ]
  },
  {
   "cell_type": "code",
   "execution_count": 66,
   "metadata": {},
   "outputs": [
    {
     "name": "stdout",
     "output_type": "stream",
     "text": [
      "{1, 2, 3, 4, 5}\n"
     ]
    }
   ],
   "source": [
    "def convert_list_to_set(input_list):\n",
    "    return set(input_list)\n",
    "\n",
    "\n",
    "my_list = [1, 2, 2, 3, 4, 4, 5]\n",
    "unique_set = convert_list_to_set(my_list)\n",
    "print(unique_set)"
   ]
  },
  {
   "cell_type": "markdown",
   "metadata": {},
   "source": [
    "set8\n",
    "8. **Remove Element**: Given a set and an element, remove the element if it exists."
   ]
  },
  {
   "cell_type": "code",
   "execution_count": null,
   "metadata": {},
   "outputs": [],
   "source": [
    "def remove_element(input_set, element):\n",
    "    if element in input_set:\n",
    "        input_set.remove(element)\n",
    "    return input_set\n",
    "\n",
    "\n",
    "my_set = {1, 2, 3, 4, 5}\n",
    "element_to_remove = 3\n",
    "\n",
    "updated_set = remove_element(my_set, element_to_remove)\n",
    "print(updated_set) "
   ]
  },
  {
   "cell_type": "markdown",
   "metadata": {},
   "source": [
    "set9\n",
    "9. **Clear Set**: Create a new empty set from an existing set."
   ]
  },
  {
   "cell_type": "code",
   "execution_count": null,
   "metadata": {},
   "outputs": [],
   "source": [
    "def clear_set(input_set):\n",
    "    input_set.clear()  \n",
    "    return input_set\n",
    "\n",
    "\n",
    "my_set = {1, 2, 3, 4, 5}\n",
    "empty_set = clear_set(my_set)\n",
    "print(empty_set)  "
   ]
  },
  {
   "cell_type": "markdown",
   "metadata": {},
   "source": [
    "set10\n",
    "10. **Check if Set is Empty**: Determine if a set has any elements."
   ]
  },
  {
   "cell_type": "code",
   "execution_count": 67,
   "metadata": {},
   "outputs": [
    {
     "name": "stdout",
     "output_type": "stream",
     "text": [
      "False\n",
      "True\n"
     ]
    }
   ],
   "source": [
    "def is_set_empty(input_set):\n",
    "    return len(input_set) == 0\n",
    "\n",
    "\n",
    "my_set = {1, 2, 3}\n",
    "empty_set = set()\n",
    "\n",
    "print(is_set_empty(my_set))  \n",
    "print(is_set_empty(empty_set))"
   ]
  },
  {
   "cell_type": "markdown",
   "metadata": {},
   "source": [
    "set11\n",
    "11. **Symmetric Difference**: Given two sets, create a new set that contains elements that are in either set but not in both."
   ]
  },
  {
   "cell_type": "code",
   "execution_count": null,
   "metadata": {},
   "outputs": [],
   "source": [
    "def symmetric_difference_of_sets(set1, set2):\n",
    "    return set1 ^ set2\n",
    "\n",
    "\n",
    "set_a = {1, 2, 3}\n",
    "set_b = {3, 4, 5}\n",
    "result = symmetric_difference_of_sets(set_a, set_b)\n",
    "print(result)"
   ]
  },
  {
   "cell_type": "markdown",
   "metadata": {},
   "source": [
    "set12\n",
    "**Add Element**: Given a set and an element, add the element to the set if it is not already present."
   ]
  },
  {
   "cell_type": "code",
   "execution_count": null,
   "metadata": {},
   "outputs": [],
   "source": [
    "def add_element_if_not_exists(input_set, element):\n",
    "    if element not in input_set:\n",
    "        input_set.add(element)\n",
    "    else:\n",
    "        print(f\"{element} is already in the set.\")\n",
    "    return input_set\n",
    "\n",
    "\n",
    "my_set = {1, 2, 3}\n",
    "element_to_add = 3 \n",
    "element_to_add_2 = 4  "
   ]
  },
  {
   "cell_type": "markdown",
   "metadata": {},
   "source": [
    "set13\n",
    "**Pop Element**: Given a set, remove and return an arbitrary element from the set."
   ]
  },
  {
   "cell_type": "code",
   "execution_count": null,
   "metadata": {},
   "outputs": [],
   "source": [
    "def pop_element_safe(input_set):\n",
    "    if input_set:\n",
    "        return input_set.pop()\n",
    "    else:\n",
    "        return \"Set is empty.\"\n",
    "\n",
    "\n",
    "empty_set = set()\n",
    "result = pop_element_safe(empty_set)\n",
    "print(result)"
   ]
  },
  {
   "cell_type": "markdown",
   "metadata": {},
   "source": [
    "set14\n",
    " **Find Maximum**: From a given set of numbers, find the maximum element."
   ]
  },
  {
   "cell_type": "code",
   "execution_count": null,
   "metadata": {},
   "outputs": [],
   "source": [
    "def find_maximum(input_set):\n",
    "    return max(input_set)  \n",
    "\n",
    "\n",
    "my_set = {1, 2, 3, 4, 5}\n",
    "max_element = find_maximum(my_set)\n",
    "print(max_element)"
   ]
  },
  {
   "cell_type": "markdown",
   "metadata": {},
   "source": [
    "set15\n",
    "**Find Minimum**: From a given set of numbers, find the minimum element.\n"
   ]
  },
  {
   "cell_type": "code",
   "execution_count": 68,
   "metadata": {},
   "outputs": [
    {
     "name": "stdout",
     "output_type": "stream",
     "text": [
      "1\n"
     ]
    }
   ],
   "source": [
    "def find_minimum(input_set):\n",
    "    return min(input_set)  \n",
    "\n",
    "\n",
    "my_set = {1, 2, 3, 4, 5}\n",
    "min_element = find_minimum(my_set)\n",
    "print(min_element)"
   ]
  },
  {
   "cell_type": "markdown",
   "metadata": {},
   "source": [
    "set16\n",
    " **Filter Even Numbers**: Given a set of integers, create a new set that contains only the even numbers."
   ]
  },
  {
   "cell_type": "code",
   "execution_count": 69,
   "metadata": {},
   "outputs": [
    {
     "name": "stdout",
     "output_type": "stream",
     "text": [
      "{8, 2, 4, 6}\n"
     ]
    }
   ],
   "source": [
    "def filter_even_numbers(input_set):\n",
    "    return {num for num in input_set if num % 2 == 0}  \n",
    "\n",
    "my_set = {1, 2, 3, 4, 5, 6, 7, 8}\n",
    "even_set = filter_even_numbers(my_set)\n",
    "print(even_set)"
   ]
  },
  {
   "cell_type": "markdown",
   "metadata": {},
   "source": [
    "set17\n",
    " **Filter Odd Numbers**: Given a set of integers, create a new set that contains only the odd numbers."
   ]
  },
  {
   "cell_type": "code",
   "execution_count": 1,
   "metadata": {},
   "outputs": [
    {
     "name": "stdout",
     "output_type": "stream",
     "text": [
      "{1, 3, 5, 7}\n"
     ]
    }
   ],
   "source": [
    "def filter_even_numbers(input_set):\n",
    "    return {num for num in input_set if num % 2 == 1}  \n",
    "\n",
    "my_set = {1, 2, 3, 4, 5, 6, 7, 8}\n",
    "even_set = filter_even_numbers(my_set)\n",
    "print(even_set)"
   ]
  },
  {
   "cell_type": "markdown",
   "metadata": {},
   "source": [
    "set18\n",
    "**Create a Set of a Range**: Create a set of numbers in a specified range (e.g., from 1 to 10)."
   ]
  },
  {
   "cell_type": "code",
   "execution_count": 2,
   "metadata": {},
   "outputs": [
    {
     "name": "stdout",
     "output_type": "stream",
     "text": [
      "{1, 2, 3, 4, 5, 6, 7, 8, 9, 10}\n"
     ]
    }
   ],
   "source": [
    "def create_set_of_range(start, end):\n",
    "    return set(range(start, end + 1))  \n",
    "\n",
    "\n",
    "my_set = create_set_of_range(1, 10)\n",
    "print(my_set)"
   ]
  },
  {
   "cell_type": "markdown",
   "metadata": {},
   "source": [
    "set19\n",
    "**Merge and Deduplicate**: Given two lists, create a new set that merges both lists and removes duplicates."
   ]
  },
  {
   "cell_type": "code",
   "execution_count": 3,
   "metadata": {},
   "outputs": [
    {
     "name": "stdout",
     "output_type": "stream",
     "text": [
      "{1, 2, 3, 4, 5, 6, 7, 8}\n"
     ]
    }
   ],
   "source": [
    "def merge_and_deduplicate(list1, list2):\n",
    "    return set(list1 + list2)  # Merge both lists and convert to a set\n",
    "\n",
    "\n",
    "list_a = [1, 2, 3, 4, 5]\n",
    "list_b = [4, 5, 6, 7, 8]\n",
    "result_set = merge_and_deduplicate(list_a, list_b)\n",
    "print(result_set)"
   ]
  },
  {
   "cell_type": "markdown",
   "metadata": {},
   "source": [
    "set20\n",
    " **Check Disjoint Sets**: Given two sets, check if they have no elements in common.\n"
   ]
  },
  {
   "cell_type": "code",
   "execution_count": null,
   "metadata": {},
   "outputs": [],
   "source": [
    "def check_disjoint_sets(set1, set2):\n",
    "    return set1.isdisjoint(set2)  \n",
    "\n",
    "\n",
    "set_a = {1, 2, 3}\n",
    "set_b = {4, 5, 6}\n",
    "set_c = {3, 4, 5}\n",
    "\n",
    "\n",
    "print(check_disjoint_sets(set_a, set_b))  \n",
    "print(check_disjoint_sets(set_a, set_c)) "
   ]
  },
  {
   "cell_type": "markdown",
   "metadata": {},
   "source": [
    "set21\n",
    "**Remove Duplicates from a List**: Given a list, create a set from it to remove duplicates, then convert back to a list."
   ]
  },
  {
   "cell_type": "code",
   "execution_count": null,
   "metadata": {},
   "outputs": [],
   "source": [
    "def remove_duplicates(input_list):\n",
    "    return list(set(input_list))  \n",
    "\n",
    "\n",
    "my_list = [1, 2, 3, 4, 3, 2, 5, 6, 5]\n",
    "unique_list = remove_duplicates(my_list)\n",
    "print(unique_list)"
   ]
  },
  {
   "cell_type": "markdown",
   "metadata": {},
   "source": [
    "set22\n",
    " **Count Unique Elements**: Given a list, determine the count of unique elements using a set."
   ]
  },
  {
   "cell_type": "code",
   "execution_count": 5,
   "metadata": {},
   "outputs": [
    {
     "name": "stdout",
     "output_type": "stream",
     "text": [
      "6\n"
     ]
    }
   ],
   "source": [
    "def remove_duplicates(input_list):\n",
    "    return len(list(set(input_list)))\n",
    "\n",
    "\n",
    "my_list = [1, 2, 3, 4, 3, 2, 5, 6, 5]\n",
    "unique_list = remove_duplicates(my_list)\n",
    "print(unique_list)"
   ]
  },
  {
   "cell_type": "markdown",
   "metadata": {},
   "source": [
    "dic1\n",
    "**Get Value**: Given a dictionary and a key, retrieve the associated value, considering what to return if the key doesn’t exist."
   ]
  },
  {
   "cell_type": "code",
   "execution_count": 25,
   "metadata": {},
   "outputs": [
    {
     "name": "stdout",
     "output_type": "stream",
     "text": [
      "Dilnavozxon\n",
      "topilmadi\n"
     ]
    }
   ],
   "source": [
    "dictation={\n",
    "    \"name\" : \"Dilnavozxon\",\n",
    "    \"surname\" : \"To'ychiyeva\"\n",
    "}\n",
    "print(dictation['name'])  \n",
    "print(dictation.get('firstname', 'topilmadi'))  "
   ]
  },
  {
   "cell_type": "markdown",
   "metadata": {},
   "source": [
    "dic2\n",
    "**Check Key**: Given a dictionary and a key, check if the key is present in the dictionary.\n"
   ]
  },
  {
   "cell_type": "code",
   "execution_count": 44,
   "metadata": {},
   "outputs": [
    {
     "name": "stdout",
     "output_type": "stream",
     "text": [
      "key is not in dictaion\n"
     ]
    }
   ],
   "source": [
    "dictation={\n",
    "    \"name\" : \"Dilnavozxon\",\n",
    "    \"surname\" : \"To'ychiyeva\"\n",
    "}\n",
    "k='firstname'\n",
    "if k in dictation.keys():\n",
    "    print( \"key in dictation\")\n",
    "else:\n",
    "    print(\"key is not in dictaion\")\n",
    "\n",
    "\n",
    "\n"
   ]
  },
  {
   "cell_type": "markdown",
   "metadata": {},
   "source": [
    "dic3\n",
    "**Count Keys**: Determine the number of keys in the dictionary."
   ]
  },
  {
   "cell_type": "code",
   "execution_count": 42,
   "metadata": {},
   "outputs": [
    {
     "name": "stdout",
     "output_type": "stream",
     "text": [
      "2\n"
     ]
    }
   ],
   "source": [
    "print(len(dictation.keys()))"
   ]
  },
  {
   "cell_type": "markdown",
   "metadata": {},
   "source": [
    "dic4\n",
    " **Get All Keys**: Create a list that contains all the keys in the dictionary."
   ]
  },
  {
   "cell_type": "code",
   "execution_count": 52,
   "metadata": {},
   "outputs": [
    {
     "name": "stdout",
     "output_type": "stream",
     "text": [
      "['name', 'surname']\n"
     ]
    }
   ],
   "source": [
    "print(list(dictation.keys()))"
   ]
  },
  {
   "cell_type": "markdown",
   "metadata": {},
   "source": [
    "dic5\n",
    "**Get All Values**: Create a list that contains all the values in the dictionary."
   ]
  },
  {
   "cell_type": "code",
   "execution_count": 54,
   "metadata": {},
   "outputs": [
    {
     "name": "stdout",
     "output_type": "stream",
     "text": [
      "['Dilnavozxon', \"To'ychiyeva\"]\n"
     ]
    }
   ],
   "source": [
    "print(list(dictation.values()))"
   ]
  },
  {
   "cell_type": "markdown",
   "metadata": {},
   "source": [
    "dic6\n",
    "**Merge Dictionaries**: Given two dictionaries, create a new dictionary that combines both."
   ]
  },
  {
   "cell_type": "code",
   "execution_count": 57,
   "metadata": {},
   "outputs": [
    {
     "name": "stdout",
     "output_type": "stream",
     "text": [
      "{'name': 'Dilnavozxon', 'surname': \"To'ychiyeva\", 'age': 20}\n"
     ]
    }
   ],
   "source": [
    "dictation2={\n",
    "    'age':20\n",
    "}\n",
    "dictation.update(dictation2)\n",
    "print(dictation)"
   ]
  },
  {
   "cell_type": "markdown",
   "metadata": {},
   "source": [
    "dic7\n",
    "**Remove Key**: Given a dictionary and a key, remove the key if it exists, handling the case if it doesn’t."
   ]
  },
  {
   "cell_type": "code",
   "execution_count": 61,
   "metadata": {},
   "outputs": [
    {
     "name": "stdout",
     "output_type": "stream",
     "text": [
      "{'surname': \"To'ychiyeva\", 'age': 20}\n"
     ]
    }
   ],
   "source": [
    "k=\"name\"\n",
    "\n",
    "if k in dictation.keys():\n",
    "   del dictation[k]\n",
    "else:\n",
    "   print(\"key not in dictation\")\n",
    "\n",
    "\n",
    "print(dictation)"
   ]
  },
  {
   "cell_type": "markdown",
   "metadata": {},
   "source": [
    "dic8\n",
    "**Clear Dictionary**: Create a new empty dictionary."
   ]
  },
  {
   "cell_type": "code",
   "execution_count": null,
   "metadata": {},
   "outputs": [],
   "source": [
    "dictation.clear()\n",
    "print(dictation)"
   ]
  },
  {
   "cell_type": "markdown",
   "metadata": {},
   "source": [
    "dic9\n",
    "**Check if Dictionary is Empty**: Determine if a dictionary has any elements."
   ]
  },
  {
   "cell_type": "code",
   "execution_count": 76,
   "metadata": {},
   "outputs": [
    {
     "name": "stdout",
     "output_type": "stream",
     "text": [
      "element mavjud\n"
     ]
    }
   ],
   "source": [
    "dictation={\n",
    "    \"name\" : \"Dilnavozxon\",\n",
    "    \"surname\" : \"To'ychiyeva\"\n",
    "}\n",
    "if bool(dictation):\n",
    "   print('element mavjud')\n",
    "else:\n",
    "   print(\"bo'sh lug'at\" )"
   ]
  },
  {
   "cell_type": "markdown",
   "metadata": {},
   "source": [
    "dic10\n",
    "**Get Key-Value Pair**: Given a dictionary and a key, retrieve the key-value pair if the key exists."
   ]
  },
  {
   "cell_type": "code",
   "execution_count": 82,
   "metadata": {},
   "outputs": [
    {
     "name": "stdout",
     "output_type": "stream",
     "text": [
      "Name is Dilnavozxon\n"
     ]
    }
   ],
   "source": [
    "if k in dictation.keys():\n",
    "   print(f\"{k.title()} is {dictation[k].title()}\")\n",
    "else:\n",
    "   print(\"bo'sh lug'at\" )"
   ]
  },
  {
   "cell_type": "markdown",
   "metadata": {},
   "source": [
    "dic11\n",
    "**Update Value**: Given a dictionary, update the value for a specified key."
   ]
  },
  {
   "cell_type": "code",
   "execution_count": 83,
   "metadata": {},
   "outputs": [
    {
     "name": "stdout",
     "output_type": "stream",
     "text": [
      "{'name': 'Sarvinozxon', 'surname': \"To'ychiyeva\"}\n"
     ]
    }
   ],
   "source": [
    "dictation['name']='Sarvinozxon'\n",
    "print(dictation)"
   ]
  },
  {
   "cell_type": "markdown",
   "metadata": {},
   "source": [
    "dic12\n",
    "**Count Value Occurrences**: Given a dictionary, count how many times a specific value appears across the keys."
   ]
  },
  {
   "cell_type": "code",
   "execution_count": 86,
   "metadata": {},
   "outputs": [
    {
     "name": "stdout",
     "output_type": "stream",
     "text": [
      "1\n"
     ]
    }
   ],
   "source": [
    "print((list(dictation.values())).count('Sarvinozxon'))"
   ]
  },
  {
   "cell_type": "markdown",
   "metadata": {},
   "source": [
    "dic13\n",
    "**Invert Dictionary**: Given a dictionary, create a new dictionary that swaps keys and values."
   ]
  },
  {
   "cell_type": "code",
   "execution_count": 89,
   "metadata": {},
   "outputs": [
    {
     "name": "stdout",
     "output_type": "stream",
     "text": [
      "{'Sarvinozxon': 'name', \"To'ychiyeva\": 'surname'}\n"
     ]
    }
   ],
   "source": [
    "\n",
    "print({v:k for k,v in dictation.items()})"
   ]
  },
  {
   "cell_type": "markdown",
   "metadata": {},
   "source": [
    "dic14\n",
    "**Find Keys with Value**: Given a dictionary and a value, create a list of all keys that have that value."
   ]
  },
  {
   "cell_type": "code",
   "execution_count": 101,
   "metadata": {},
   "outputs": [
    {
     "name": "stdout",
     "output_type": "stream",
     "text": [
      "['givename', 'firstname']\n"
     ]
    }
   ],
   "source": [
    "dictation['givename']='Dilnavozxon'\n",
    "dictation['firstname']='Dilnavozxon'\n",
    "value='Dilnavozxon'\n",
    "l=[k for k,v in dictation.items() if v==value]\n",
    "print(l)"
   ]
  },
  {
   "cell_type": "markdown",
   "metadata": {},
   "source": [
    "dic15\n",
    " **Create a Dictionary from Lists**: Given two lists (one of keys and one of values), create a dictionary that pairs them."
   ]
  },
  {
   "cell_type": "code",
   "execution_count": 107,
   "metadata": {},
   "outputs": [
    {
     "name": "stdout",
     "output_type": "stream",
     "text": [
      "{'dilnavozxon': 'ism', '4-kus': 'kursi', 'matematika': 'fakultet'}\n"
     ]
    }
   ],
   "source": [
    "l1=['dilnavozxon','4-kus','matematika']\n",
    "l2=['ism','kursi','fakultet']\n",
    "dicta={\n",
    "    k:v for k,v in zip(l1,l2)\n",
    "}\n",
    "print(dicta)"
   ]
  },
  {
   "cell_type": "markdown",
   "metadata": {},
   "source": [
    "dic16\n",
    " **Check for Nested Dictionaries**: Given a dictionary, check if any values are also dictionaries."
   ]
  },
  {
   "cell_type": "code",
   "execution_count": null,
   "metadata": {},
   "outputs": [],
   "source": []
  },
  {
   "cell_type": "markdown",
   "metadata": {},
   "source": [
    "dic17\n",
    "**Get Nested Value**: Given a nested dictionary, retrieve a value from within one of the inner dictionaries."
   ]
  },
  {
   "cell_type": "code",
   "execution_count": 111,
   "metadata": {},
   "outputs": [
    {
     "data": {
      "text/plain": [
       "'Dilnavozxon'"
      ]
     },
     "execution_count": 111,
     "metadata": {},
     "output_type": "execute_result"
    }
   ],
   "source": [
    "nested_dict = {\n",
    "    \"person1\": {\n",
    "        \"name\": \"Dilnavozxon\",\n",
    "        \"age\": 20,\n",
    "        \"city\": \"Tashkent\"\n",
    "    },\n",
    "    \"person2\": {\n",
    "        \"name\": \"Ali\",\n",
    "        \"age\": 22,\n",
    "        \"city\": \"Samarkand\"\n",
    "    }\n",
    "}\n",
    "(nested_dict[\"person1\"])[\"name\"]"
   ]
  },
  {
   "cell_type": "markdown",
   "metadata": {},
   "source": [
    "dic18\n",
    " **Create Default Dictionary**: Create a dictionary that provides a default value for missing keys."
   ]
  },
  {
   "cell_type": "code",
   "execution_count": 115,
   "metadata": {},
   "outputs": [
    {
     "name": "stdout",
     "output_type": "stream",
     "text": [
      "3\n"
     ]
    }
   ],
   "source": [
    "# *Count Unique Values**: Given a dictionary, determine the number of unique values it contains.\n",
    "a=set(dictation.values())\n",
    "print(len(a))\n"
   ]
  },
  {
   "cell_type": "markdown",
   "metadata": {},
   "source": [
    "dic19\n",
    "*Sort Dictionary by Key**: Create a new dictionary sorted by keys."
   ]
  },
  {
   "cell_type": "code",
   "execution_count": 124,
   "metadata": {},
   "outputs": [
    {
     "name": "stdout",
     "output_type": "stream",
     "text": [
      "{'name': 'Sarvinozxon', 'surname': \"To'ychiyeva\", 'givename': 'Dilnavozxon', 'firstname': 'Dilnavozxon'}\n",
      "{'firstname': 'Dilnavozxon', 'givename': 'Dilnavozxon', 'name': 'Sarvinozxon', 'surname': \"To'ychiyeva\"}\n"
     ]
    }
   ],
   "source": [
    "dic_sorted={\n",
    "    key:dictation[key] for key in sorted(dictation)\n",
    "}\n",
    "print(dictation)\n",
    "print(dic_sorted)"
   ]
  },
  {
   "cell_type": "markdown",
   "metadata": {},
   "source": [
    "dic20\n",
    " **Sort Dictionary by Value**: Create a new dictionary sorted by values."
   ]
  },
  {
   "cell_type": "code",
   "execution_count": 129,
   "metadata": {},
   "outputs": [
    {
     "name": "stdout",
     "output_type": "stream",
     "text": [
      "{'name': 'Sarvinozxon', 'surname': \"To'ychiyeva\", 'givename': 'Dilnavozxon', 'firstname': 'Dilnavozxon'}\n",
      "{'firstname': 'Dilnavozxon', 'givename': 'Dilnavozxon', 'name': 'Sarvinozxon', 'surname': \"To'ychiyeva\"}\n"
     ]
    }
   ],
   "source": [
    "dic_sorted={\n",
    "    k:v for k,v in sorted(dictation.items())\n",
    "}\n",
    "print(dictation)\n",
    "print(dic_sorted)"
   ]
  },
  {
   "cell_type": "markdown",
   "metadata": {},
   "source": [
    "dic21\n",
    "**Filter by Value**: Given a dictionary, create a new dictionary that only includes items with values that meet a certain condition."
   ]
  },
  {
   "cell_type": "code",
   "execution_count": 132,
   "metadata": {},
   "outputs": [
    {
     "name": "stdout",
     "output_type": "stream",
     "text": [
      "{'name': 'Sarvinozxon', 'surname': \"To'ychiyeva\", 'givename': 'Dilnavozxon', 'firstname': 'Dilnavozxon'}\n",
      "{'givename': 'Dilnavozxon', 'firstname': 'Dilnavozxon'}\n"
     ]
    }
   ],
   "source": [
    "dic_sorted={\n",
    "    k:v for k,v in dictation.items() if v=='Dilnavozxon'\n",
    "}\n",
    "print(dictation)\n",
    "print(dic_sorted)"
   ]
  },
  {
   "cell_type": "markdown",
   "metadata": {},
   "source": [
    "dic22\n",
    "Check for Common Keys**: Given two dictionaries, check if they have any keys in common."
   ]
  },
  {
   "cell_type": "code",
   "execution_count": 139,
   "metadata": {},
   "outputs": [
    {
     "name": "stdout",
     "output_type": "stream",
     "text": [
      "{'name': 'Dilnavozxon', 'age': 20, 'city': 'Tashkent'} {'name': 'Ali', 'age': 20, 'city': 'Samarkand'}\n",
      "they are in common\n",
      "they are in common\n",
      "they are in common\n"
     ]
    }
   ],
   "source": [
    "dictat1=nested_dict['person1']\n",
    "dictat2=nested_dict['person2']\n",
    "dictat2['age']=20\n",
    "print(dictat1,dictat2)\n",
    "for key1 in dictat1.keys():\n",
    " for key2 in dictat2.keys():\n",
    "  if key1 == key2:\n",
    "   print('they are in common')\n"
   ]
  },
  {
   "cell_type": "markdown",
   "metadata": {},
   "source": [
    "dic23\n",
    "**Create Dictionary from Tuple**: Given a tuple of key-value pairs, create a dictionary from it."
   ]
  },
  {
   "cell_type": "code",
   "execution_count": null,
   "metadata": {},
   "outputs": [],
   "source": [
    "tuple_data = (('name', 'Sarvinozxon'), ('surname', 'To\\'ychiyeva'), ('age', 25))\n",
    "\n",
    "\n",
    "dict_from_tuple = dict(tuple_data)\n",
    "\n",
    "print(dict_from_tuple)"
   ]
  },
  {
   "cell_type": "markdown",
   "metadata": {},
   "source": [
    "dic24\n",
    "**Get the First Key-Value Pair**: Retrieve the first key-value pair from a dictionary."
   ]
  },
  {
   "cell_type": "code",
   "execution_count": 140,
   "metadata": {},
   "outputs": [
    {
     "data": {
      "text/plain": [
       "('name', 'Sarvinozxon')"
      ]
     },
     "execution_count": 140,
     "metadata": {},
     "output_type": "execute_result"
    }
   ],
   "source": [
    "next(iter(dictation.items()))"
   ]
  },
  {
   "cell_type": "code",
   "execution_count": null,
   "metadata": {},
   "outputs": [],
   "source": []
  }
 ],
 "metadata": {
  "kernelspec": {
   "display_name": "Python 3",
   "language": "python",
   "name": "python3"
  },
  "language_info": {
   "codemirror_mode": {
    "name": "ipython",
    "version": 3
   },
   "file_extension": ".py",
   "mimetype": "text/x-python",
   "name": "python",
   "nbconvert_exporter": "python",
   "pygments_lexer": "ipython3",
   "version": "3.12.8"
  }
 },
 "nbformat": 4,
 "nbformat_minor": 2
}
